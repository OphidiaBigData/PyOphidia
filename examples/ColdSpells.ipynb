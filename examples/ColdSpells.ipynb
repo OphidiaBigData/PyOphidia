{
 "cells": [
  {
   "cell_type": "code",
   "execution_count": null,
   "metadata": {},
   "outputs": [],
   "source": [
    "import sys\n",
    "import cube, client, workflow, experiment"
   ]
  },
  {
   "cell_type": "code",
   "execution_count": null,
   "metadata": {},
   "outputs": [],
   "source": [
    "hosts=\"1\"\n",
    "cores=\"1\"\n",
    "threads=\"8\""
   ]
  },
  {
   "cell_type": "code",
   "execution_count": null,
   "metadata": {},
   "outputs": [],
   "source": [
    "cli = client.Client(read_env=True)\n",
    "cube.Cube.setclient(cli)\n",
    "workflow.Workflow.setclient(cli)"
   ]
  },
  {
   "cell_type": "code",
   "execution_count": null,
   "metadata": {},
   "outputs": [],
   "source": [
    "cube.Cube.cluster(action='undeploy',host_partition='partition',nhost=1,exec_mode='async')"
   ]
  },
  {
   "cell_type": "code",
   "execution_count": null,
   "metadata": {},
   "outputs": [],
   "source": [
    "exp = experiment.Experiment(\n",
    "    name=\"Cold Spells\",\n",
    "    author=\"CMCC\",\n",
    "    abstract=\"Perform the computation of Cold Spells indexes using ESDM PAV\",\n",
    "    exec_mode=\"sync\",\n",
    "    host_partition=\"partition\",\n",
    "    ncores=cores)\n",
    "\n",
    "t1 = exp.newTask(name=\"Create container\",\n",
    "                type=\"ophidia\",\n",
    "                operator='oph_createcontainer',\n",
    "                on_error='skip',\n",
    "                arguments={'container': 'coldspells',\n",
    "                           'dim': 'lat|lon|time',\n",
    "                           'dim_type': 'double|double|double',\n",
    "                           'hierarchy': 'oph_base|oph_base|oph_time'})\n",
    "\n",
    "t2 = exp.newTask(name=\"Import climate averages\",\n",
    "                type=\"ophidia\",\n",
    "                operator='oph_importnc2',\n",
    "                arguments={'measure': 'tasmin',\n",
    "                           'container': 'coldspells',\n",
    "                           'import_metadata': 'yes',\n",
    "                           'imp_dim': 'time', \n",
    "                           'imp_concept_level': 'd',\n",
    "                           'hierarchy': 'oph_base|oph_base|oph_time',\n",
    "                           'description': 'Min temperature climatological mean', \n",
    "                           'input': 'climatological_mean.nc',\n",
    "                           'nhost': hosts, \n",
    "                           'nthreads': threads},)\n",
    "    \n",
    "tf0 = exp.newTask(name=\"Begin parallel for\",\n",
    "                type=\"control\",\n",
    "                operator='for',\n",
    "                arguments={'input': '[future_tasmin_*.nc]',\n",
    "                           'key': 'source',\n",
    "                           'parallel': 'yes'},\n",
    "                dependencies={t1:''})\n",
    "\n",
    "tf1 = exp.newTask(name=\"Import\",\n",
    "                type=\"ophidia\",\n",
    "                operator='oph_importnc2',\n",
    "                arguments={'input': '@source',\n",
    "                           'measure': 'tasmin',\n",
    "                           'container': 'coldspells',\n",
    "                           'import_metadata': 'yes',\n",
    "                           'imp_dim': 'time', \n",
    "                           'imp_concept_level': 'd',\n",
    "                           'hierarchy': 'oph_base|oph_base|oph_time',\n",
    "                           'description': 'Min temperature in current year', 'nhost': hosts, 'nthreads': threads},\n",
    "                dependencies={tf0:''})\n",
    "\n",
    "tf2 = exp.newTask(name=\"Intercube\",\n",
    "                type=\"ophidia\",\n",
    "                operator='oph_intercube', \n",
    "                arguments={'description': 'Result from intercube'},\n",
    "                dependencies={tf1:'cube', t2:'cube2'})\n",
    "\n",
    "tf3 = exp.newTask(name=\"Apply\",\n",
    "                type=\"ophidia\",\n",
    "                operator='oph_apply',\n",
    "                arguments={'query': \"oph_predicate('OPH_INT','OPH_INT',oph_sequence('OPH_INT','OPH_INT', oph_predicate('OPH_FLOAT','OPH_INT',oph_predicate('OPH_FLOAT','OPH_FLOAT',measure,'x-1000','>0','0','x'),'x+5','<0','1','0'), 'length', 'yes'),'x-5','>0','x','0')\",\n",
    "                           'description': 'Cold Spell Duration cube'},\n",
    "                dependencies={tf2:'cube'})\n",
    "\n",
    "t3 = exp.newTask(name=\"End parallel for\",\n",
    "                type=\"control\",\n",
    "                operator='endfor',\n",
    "                arguments={},\n",
    "                dependencies={tf3:'cube'})\n",
    "\n",
    "t4 = exp.newTask(name=\"Merge\",\n",
    "                type=\"ophidia\",\n",
    "                operator='oph_mergecubes',\n",
    "                arguments={'mode': 'a',\n",
    "                           'hold_values': 'yes',\n",
    "                           'order': 'source'},\n",
    "                dependencies={t3:'cubes'})\n",
    "\n",
    "t5 = exp.newTask(name=\"Reduce for CSD\",\n",
    "                type=\"ophidia\",\n",
    "                operator='oph_reduce2', \n",
    "                arguments={'operation': 'max', \n",
    "                           'dim': 'time', \n",
    "                           'description': 'Cold Spell Duration Index cube'}, \n",
    "                dependencies={t4:'cube'})\n",
    "\n",
    "t5e = exp.newTask(name=\"Export CSD\",\n",
    "                type=\"ophidia\",\n",
    "                operator='oph_exportnc2', \n",
    "                arguments={'output': 'CSD.nc'},\n",
    "                dependencies={t5:'cube'})\n",
    "\n",
    "t6 = exp.newTask(name=\"Apply for CSN\",\n",
    "                type=\"ophidia\",\n",
    "                operator='oph_apply', \n",
    "                arguments={'query': \"oph_predicate('OPH_INT','OPH_INT',measure,'x','>0','1','0')\",\n",
    "                           'description': 'Apply for CSN cube'},\n",
    "                dependencies={t4:'cube'})\n",
    "\n",
    "t7 = exp.newTask(name=\"Reduce for CSN\",\n",
    "                type=\"ophidia\",\n",
    "                operator='oph_reduce2', \n",
    "                arguments={'operation': 'sum',\n",
    "                           'dim': 'time', \n",
    "                           'description': 'Cold Spell Number cube'},\n",
    "                dependencies={t6:'cube'})\n",
    "\n",
    "t7e = exp.newTask(name=\"Export CSN\",\n",
    "                type=\"ophidia\",\n",
    "                operator='oph_exportnc2', \n",
    "                arguments={'output': 'CSN.nc'},\n",
    "                dependencies={t7:'cube'})\n",
    "\n",
    "t8 = exp.newTask(name=\"Reduce for CSF\",\n",
    "                type=\"ophidia\",\n",
    "                operator='oph_reduce2', \n",
    "                arguments={'operation': 'sum',\n",
    "                           'dim': 'time', \n",
    "                           'description': 'Reduce for CSF cube'},\n",
    "                dependencies={t4:'cube'})\n",
    "\n",
    "t9 = exp.newTask(name=\"Apply for CSF\",\n",
    "                type=\"ophidia\",\n",
    "                operator='oph_apply', \n",
    "                arguments={'query': \"oph_mul_scalar('OPH_INT','OPH_FLOAT',measure,\"+ str(1/365) +\")\",\n",
    "                           'description': 'Cold Spell Frequency cube'},\n",
    "                dependencies={t8:'cube'})\n",
    "\n",
    "t9e = exp.newTask(name=\"Export CSF\",\n",
    "                type=\"ophidia\",\n",
    "                operator='oph_exportnc2', \n",
    "                arguments={'output': 'CSF.nc'},\n",
    "                dependencies={t9:'cube'})"
   ]
  },
  {
   "cell_type": "code",
   "execution_count": null,
   "metadata": {},
   "outputs": [],
   "source": [
    "exp.check()"
   ]
  },
  {
   "cell_type": "code",
   "execution_count": null,
   "metadata": {},
   "outputs": [],
   "source": [
    "wf = workflow.Workflow(exp)"
   ]
  },
  {
   "cell_type": "code",
   "execution_count": null,
   "metadata": {},
   "outputs": [],
   "source": [
    "wf.submit()"
   ]
  },
  {
   "cell_type": "code",
   "execution_count": null,
   "metadata": {},
   "outputs": [],
   "source": [
    "%load_ext autoreload\n",
    "%autoreload 2\n",
    "workflow.Workflow.setclient(cli)\n",
    "wf.monitor(frequency=1, iterative=True, visual_mode=True)"
   ]
  },
  {
   "cell_type": "code",
   "execution_count": null,
   "metadata": {},
   "outputs": [],
   "source": [
    "wf.build_provenance(\"coldspells\", output_format=\"json\", display=True)"
   ]
  },
  {
   "cell_type": "code",
   "execution_count": null,
   "metadata": {},
   "outputs": [],
   "source": [
    "cube.Cube.cluster(action='undeploy',host_partition='partition',exec_mode='async')"
   ]
  }
 ],
 "metadata": {
  "kernelspec": {
   "display_name": "Python 3 (ipykernel)",
   "language": "python",
   "name": "python3"
  },
  "language_info": {
   "codemirror_mode": {
    "name": "ipython",
    "version": 3
   },
   "file_extension": ".py",
   "mimetype": "text/x-python",
   "name": "python",
   "nbconvert_exporter": "python",
   "pygments_lexer": "ipython3",
   "version": "3.10.6"
  }
 },
 "nbformat": 4,
 "nbformat_minor": 4
}
